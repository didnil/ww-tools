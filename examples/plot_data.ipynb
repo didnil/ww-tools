{
 "cells": [
  {
   "cell_type": "code",
   "execution_count": 34,
   "metadata": {},
   "outputs": [],
   "source": [
    "import pandas as pd\n",
    "import geopandas as gpd\n",
    "from pathlib import Path\n",
    "import importlib\n",
    "import sys\n",
    "sys.path.append('..\\wwtools')\n",
    "import mike.plot_data as mp\n",
    "from mikeio1d.res1d import Res1D, QueryDataReach, QueryDataNode\n",
    "import mike.plot_map as pm\n",
    "# from mikeio1d.res1d import Res1D, QueryDataReach, QueryDataNode"
   ]
  },
  {
   "cell_type": "code",
   "execution_count": 2,
   "metadata": {},
   "outputs": [],
   "source": [
    "def extract_data(results, objects, names):\n",
    "    df_list = list()\n",
    "    for result, name in zip(results, names):\n",
    "        selected_data = mp.selectData(objects, ['Head'], result)\n",
    "        # return selected_data\n",
    "        min_values = selected_data.min(axis=0)\n",
    "        mean_values = selected_data.mean(axis=0)\n",
    "        # grouped_values = list(zip(min_values, mean_values))\n",
    "        object_names = selected_data.columns.get_level_values(0)\n",
    "        sub_df = pd.DataFrame.from_records(list(zip(object_names, min_values, mean_values)), columns=['Object', 'Minimum', 'Mean'], index='Object')\n",
    "        sub_df.columns = pd.MultiIndex.from_arrays([[name, name], sub_df.columns])\n",
    "        df_list.append(sub_df)\n",
    "    return pd.concat(df_list, axis=1)"
   ]
  },
  {
   "cell_type": "code",
   "execution_count": 3,
   "metadata": {},
   "outputs": [],
   "source": [
    "res_folder = Path(R\"C:\\Users\\SEDINI\\Documents\\Arbetsmapp\\Stenungsund_30063116\\mike\\2023-11-03\\Nya_k_varden\")"
   ]
  },
  {
   "cell_type": "code",
   "execution_count": 4,
   "metadata": {},
   "outputs": [],
   "source": [
    "_base = Res1D(str(res_folder / 'stenungsund_2023Base%MTVV.res'))\n",
    "_74 = Res1D(str(res_folder / 'stenungsund_2023_74Base%MTVV.res'))\n",
    "_75 = Res1D(str(res_folder / 'stenungsund_2023_75Base%MTVV.res'))\n",
    "_77 = Res1D(str(res_folder / 'stenungsund_2023_77Base%MTVV.res'))"
   ]
  },
  {
   "cell_type": "code",
   "execution_count": 5,
   "metadata": {},
   "outputs": [],
   "source": [
    "summmarized_data = extract_data([_base, _74, _75, _77], ['wNode_692', 'wNode_843', 'wNode_223', 'wNode_744'], ['Nuläge', '+74', '+75', '+77'])"
   ]
  },
  {
   "cell_type": "code",
   "execution_count": 6,
   "metadata": {},
   "outputs": [],
   "source": [
    "summmarized_data.index = ['Tjörn', 'Valeberget', 'Ekbacken', 'Spekeröd']"
   ]
  },
  {
   "cell_type": "code",
   "execution_count": 35,
   "metadata": {},
   "outputs": [],
   "source": [
    "basePres = pm.create_result_map(_74, 'Pressure', 'min', 'node', 'epsg:3007')"
   ]
  },
  {
   "cell_type": "code",
   "execution_count": 77,
   "metadata": {},
   "outputs": [],
   "source": [
    "summmarized_data.to_clipboard()"
   ]
  }
 ],
 "metadata": {
  "kernelspec": {
   "display_name": "Python 3",
   "language": "python",
   "name": "python3"
  },
  "language_info": {
   "codemirror_mode": {
    "name": "ipython",
    "version": 3
   },
   "file_extension": ".py",
   "mimetype": "text/x-python",
   "name": "python",
   "nbconvert_exporter": "python",
   "pygments_lexer": "ipython3",
   "version": "3.11.3"
  }
 },
 "nbformat": 4,
 "nbformat_minor": 2
}
