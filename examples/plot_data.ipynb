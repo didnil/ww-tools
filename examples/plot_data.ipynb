{
 "cells": [
  {
   "cell_type": "code",
   "execution_count": 34,
   "metadata": {},
   "outputs": [],
   "source": [
    "import pandas as pd\n",
    "import geopandas as gpd\n",
    "from pathlib import Path\n",
    "import importlib\n",
    "import sys\n",
    "sys.path.append('..\\wwtools')\n",
    "import mike.plot_data as mp\n",
    "from mikeio1d.res1d import Res1D, QueryDataReach, QueryDataNode\n",
    "import mike.plot_map as pm\n",
    "# from mikeio1d.res1d import Res1D, QueryDataReach, QueryDataNode"
   ]
  },
  {
   "cell_type": "code",
   "execution_count": 2,
   "metadata": {},
   "outputs": [],
   "source": [
    "def extract_data(results, objects, names):\n",
    "    df_list = list()\n",
    "    for result, name in zip(results, names):\n",
    "        selected_data = mp.selectData(objects, ['Head'], result)\n",
    "        # return selected_data\n",
    "        min_values = selected_data.min(axis=0)\n",
    "        mean_values = selected_data.mean(axis=0)\n",
    "        # grouped_values = list(zip(min_values, mean_values))\n",
    "        object_names = selected_data.columns.get_level_values(0)\n",
    "        sub_df = pd.DataFrame.from_records(list(zip(object_names, min_values, mean_values)), columns=['Object', 'Minimum', 'Mean'], index='Object')\n",
    "        sub_df.columns = pd.MultiIndex.from_arrays([[name, name], sub_df.columns])\n",
    "        df_list.append(sub_df)\n",
    "    return pd.concat(df_list, axis=1)"
   ]
  },
  {
   "cell_type": "code",
   "execution_count": 3,
   "metadata": {},
   "outputs": [],
   "source": [
    "res_folder = Path(R\"C:\\Users\\SEDINI\\Documents\\Arbetsmapp\\Stenungsund_30063116\\mike\\2023-11-03\\Nya_k_varden\")"
   ]
  },
  {
   "cell_type": "code",
   "execution_count": 4,
   "metadata": {},
   "outputs": [],
   "source": [
    "_base = Res1D(str(res_folder / 'stenungsund_2023Base%MTVV.res'))\n",
    "_74 = Res1D(str(res_folder / 'stenungsund_2023_74Base%MTVV.res'))\n",
    "_75 = Res1D(str(res_folder / 'stenungsund_2023_75Base%MTVV.res'))\n",
    "_77 = Res1D(str(res_folder / 'stenungsund_2023_77Base%MTVV.res'))"
   ]
  },
  {
   "cell_type": "code",
   "execution_count": 5,
   "metadata": {},
   "outputs": [],
   "source": [
    "summmarized_data = extract_data([_base, _74, _75, _77], ['wNode_692', 'wNode_843', 'wNode_223', 'wNode_744'], ['Nuläge', '+74', '+75', '+77'])"
   ]
  },
  {
   "cell_type": "code",
   "execution_count": 6,
   "metadata": {},
   "outputs": [],
   "source": [
    "summmarized_data.index = ['Tjörn', 'Valeberget', 'Ekbacken', 'Spekeröd']"
   ]
  },
  {
   "cell_type": "code",
   "execution_count": 30,
   "metadata": {},
   "outputs": [
    {
     "data": {
      "text/plain": [
       "<DHI.Mike1D.ResultDataAccess.Epanet.EpanetNode object at 0x00000153C5F18EC0>"
      ]
     },
     "execution_count": 30,
     "metadata": {},
     "output_type": "execute_result"
    }
   ],
   "source": [
    "_74.nodes['wNode_692']"
   ]
  },
  {
   "cell_type": "code",
   "execution_count": 36,
   "metadata": {},
   "outputs": [
    {
     "data": {
      "text/html": [
       "<div>\n",
       "<style scoped>\n",
       "    .dataframe tbody tr th:only-of-type {\n",
       "        vertical-align: middle;\n",
       "    }\n",
       "\n",
       "    .dataframe tbody tr th {\n",
       "        vertical-align: top;\n",
       "    }\n",
       "\n",
       "    .dataframe thead th {\n",
       "        text-align: right;\n",
       "    }\n",
       "</style>\n",
       "<table border=\"1\" class=\"dataframe\">\n",
       "  <thead>\n",
       "    <tr style=\"text-align: right;\">\n",
       "      <th></th>\n",
       "      <th>geometry</th>\n",
       "      <th>Pressure</th>\n",
       "    </tr>\n",
       "  </thead>\n",
       "  <tbody>\n",
       "    <tr>\n",
       "      <th>Junction_1</th>\n",
       "      <td>POINT EMPTY</td>\n",
       "      <td>6.799924e+01</td>\n",
       "    </tr>\n",
       "    <tr>\n",
       "      <th>WNODE_1238</th>\n",
       "      <td>POINT EMPTY</td>\n",
       "      <td>3.503939e+01</td>\n",
       "    </tr>\n",
       "    <tr>\n",
       "      <th>WNODE_1239</th>\n",
       "      <td>POINT EMPTY</td>\n",
       "      <td>5.698959e+01</td>\n",
       "    </tr>\n",
       "    <tr>\n",
       "      <th>WNODE_1242</th>\n",
       "      <td>POINT EMPTY</td>\n",
       "      <td>6.808852e+01</td>\n",
       "    </tr>\n",
       "    <tr>\n",
       "      <th>WNODE_1243</th>\n",
       "      <td>POINT EMPTY</td>\n",
       "      <td>6.987949e+01</td>\n",
       "    </tr>\n",
       "    <tr>\n",
       "      <th>...</th>\n",
       "      <td>...</td>\n",
       "      <td>...</td>\n",
       "    </tr>\n",
       "    <tr>\n",
       "      <th>KUNGALV</th>\n",
       "      <td>POINT EMPTY</td>\n",
       "      <td>2.392578e-06</td>\n",
       "    </tr>\n",
       "    <tr>\n",
       "      <th>VV</th>\n",
       "      <td>POINT EMPTY</td>\n",
       "      <td>7.629394e-08</td>\n",
       "    </tr>\n",
       "    <tr>\n",
       "      <th>u_UCKLUM_VV</th>\n",
       "      <td>POINT EMPTY</td>\n",
       "      <td>1.525879e-07</td>\n",
       "    </tr>\n",
       "    <tr>\n",
       "      <th>HALLEBACK_HR</th>\n",
       "      <td>POINT EMPTY</td>\n",
       "      <td>3.830965e+00</td>\n",
       "    </tr>\n",
       "    <tr>\n",
       "      <th>u_UCKLUM_HR</th>\n",
       "      <td>POINT EMPTY</td>\n",
       "      <td>-3.635742e-06</td>\n",
       "    </tr>\n",
       "  </tbody>\n",
       "</table>\n",
       "<p>1160 rows × 2 columns</p>\n",
       "</div>"
      ],
      "text/plain": [
       "                 geometry      Pressure\n",
       "Junction_1    POINT EMPTY  6.799924e+01\n",
       "WNODE_1238    POINT EMPTY  3.503939e+01\n",
       "WNODE_1239    POINT EMPTY  5.698959e+01\n",
       "WNODE_1242    POINT EMPTY  6.808852e+01\n",
       "WNODE_1243    POINT EMPTY  6.987949e+01\n",
       "...                   ...           ...\n",
       "KUNGALV       POINT EMPTY  2.392578e-06\n",
       "VV            POINT EMPTY  7.629394e-08\n",
       "u_UCKLUM_VV   POINT EMPTY  1.525879e-07\n",
       "HALLEBACK_HR  POINT EMPTY  3.830965e+00\n",
       "u_UCKLUM_HR   POINT EMPTY -3.635742e-06\n",
       "\n",
       "[1160 rows x 2 columns]"
      ]
     },
     "execution_count": 36,
     "metadata": {},
     "output_type": "execute_result"
    }
   ],
   "source": [
    "basePres"
   ]
  },
  {
   "cell_type": "code",
   "execution_count": 35,
   "metadata": {},
   "outputs": [],
   "source": [
    "basePres = pm.create_result_map(_74, 'Pressure', 'min', 'node', 'epsg:3007')"
   ]
  },
  {
   "cell_type": "code",
   "execution_count": 77,
   "metadata": {},
   "outputs": [],
   "source": [
    "summmarized_data.to_clipboard()"
   ]
  }
 ],
 "metadata": {
  "kernelspec": {
   "display_name": "Python 3",
   "language": "python",
   "name": "python3"
  },
  "language_info": {
   "codemirror_mode": {
    "name": "ipython",
    "version": 3
   },
   "file_extension": ".py",
   "mimetype": "text/x-python",
   "name": "python",
   "nbconvert_exporter": "python",
   "pygments_lexer": "ipython3",
   "version": "3.11.3"
  }
 },
 "nbformat": 4,
 "nbformat_minor": 2
}
