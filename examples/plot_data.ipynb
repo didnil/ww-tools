{
 "cells": [
  {
   "cell_type": "code",
   "execution_count": 2,
   "metadata": {},
   "outputs": [],
   "source": [
    "import pandas as pd\n",
    "import geopandas as gpd\n",
    "from pathlib import Path\n",
    "import importlib\n",
    "import sys\n",
    "sys.path.append('..\\wwtools')\n",
    "import mike.plot_data as mp\n",
    "from mikeio1d.res1d import Res1D, QueryDataReach, QueryDataNode\n",
    "import mike.plot_map as pm\n",
    "# from mikeio1d.res1d import Res1D, QueryDataReach, QueryDataNode"
   ]
  },
  {
   "cell_type": "code",
   "execution_count": 3,
   "metadata": {},
   "outputs": [],
   "source": [
    "def extract_data(results, objects, names):\n",
    "    df_list = list()\n",
    "    for result, name in zip(results, names):\n",
    "        selected_data = mp.selectData(objects, ['Head'], result)\n",
    "        min_values = selected_data.min(axis=0)\n",
    "        mean_values = selected_data.mean(axis=0)\n",
    "        object_names = selected_data.columns.get_level_values(0)\n",
    "        sub_df = pd.DataFrame.from_records(list(zip(object_names, min_values, mean_values)), columns=['Object', 'Minimum', 'Mean'], index='Object')\n",
    "        sub_df.columns = pd.MultiIndex.from_arrays([[name, name], sub_df.columns])\n",
    "        df_list.append(sub_df)\n",
    "    return pd.concat(df_list, axis=1)"
   ]
  },
  {
   "cell_type": "code",
   "execution_count": 4,
   "metadata": {},
   "outputs": [],
   "source": [
    "res_folder = Path(R\"C:\\Users\\SEDINI\\Documents\\Arbetsmapp\\Stenungsund_30063116\\mike\\2023-11-03\\Nya_k_varden\")"
   ]
  },
  {
   "cell_type": "markdown",
   "metadata": {},
   "source": [
    "## Normalförbrukning"
   ]
  },
  {
   "cell_type": "code",
   "execution_count": 4,
   "metadata": {},
   "outputs": [],
   "source": [
    "_base = Res1D(str(res_folder / 'stenungsund_2023Base%MTVV.res'))\n",
    "_74 = Res1D(str(res_folder / 'stenungsund_2023_74Base%MTVV.res'))\n",
    "_75 = Res1D(str(res_folder / 'stenungsund_2023_75Base%MTVV.res'))\n",
    "_77 = Res1D(str(res_folder / 'stenungsund_2023_77Base%MTVV.res'))"
   ]
  },
  {
   "cell_type": "code",
   "execution_count": 5,
   "metadata": {},
   "outputs": [],
   "source": [
    "summmarized_data = extract_data([_base, _74, _75, _77], ['wNode_692', 'wNode_843', 'wNode_223', 'wNode_744'], ['Nuläge', '+74', '+75', '+77'])\n",
    "summmarized_data.index = ['Tjörn', 'Valeberget', 'Ekbacken', 'Spekeröd']"
   ]
  },
  {
   "cell_type": "code",
   "execution_count": 77,
   "metadata": {},
   "outputs": [],
   "source": [
    "summmarized_data.to_clipboard()"
   ]
  },
  {
   "cell_type": "markdown",
   "metadata": {},
   "source": [
    "## Högförbrukning"
   ]
  },
  {
   "cell_type": "code",
   "execution_count": 5,
   "metadata": {},
   "outputs": [],
   "source": [
    "_base = Res1D(str(res_folder / 'hfb' / 'stenungsund_2023hBase%MTVV.res'))\n",
    "_74 = Res1D(str(res_folder / 'hfb' / 'stenungsund_2023_74hBase%MTVV.res'))\n",
    "_75 = Res1D(str(res_folder / 'hfb' / 'stenungsund_2023_75hBase%MTVV.res'))\n",
    "_77 = Res1D(str(res_folder / 'hfb' / 'stenungsund_2023_77hBase%MTVV.res'))"
   ]
  },
  {
   "cell_type": "code",
   "execution_count": 6,
   "metadata": {},
   "outputs": [],
   "source": [
    "summmarized_data = extract_data([_base, _74, _75, _77], ['wNode_692', 'wNode_843', 'wNode_223', 'wNode_744'], ['Nuläge', '+74', '+75', '+77'])\n",
    "summmarized_data.index = ['Tjörn', 'Valeberget', 'Ekbacken', 'Spekeröd']"
   ]
  },
  {
   "cell_type": "code",
   "execution_count": 8,
   "metadata": {},
   "outputs": [
    {
     "data": {
      "text/html": [
       "<div>\n",
       "<style scoped>\n",
       "    .dataframe tbody tr th:only-of-type {\n",
       "        vertical-align: middle;\n",
       "    }\n",
       "\n",
       "    .dataframe tbody tr th {\n",
       "        vertical-align: top;\n",
       "    }\n",
       "\n",
       "    .dataframe thead tr th {\n",
       "        text-align: left;\n",
       "    }\n",
       "</style>\n",
       "<table border=\"1\" class=\"dataframe\">\n",
       "  <thead>\n",
       "    <tr>\n",
       "      <th></th>\n",
       "      <th colspan=\"2\" halign=\"left\">Nuläge</th>\n",
       "      <th colspan=\"2\" halign=\"left\">+74</th>\n",
       "      <th colspan=\"2\" halign=\"left\">+75</th>\n",
       "      <th colspan=\"2\" halign=\"left\">+77</th>\n",
       "    </tr>\n",
       "    <tr>\n",
       "      <th></th>\n",
       "      <th>Minimum</th>\n",
       "      <th>Mean</th>\n",
       "      <th>Minimum</th>\n",
       "      <th>Mean</th>\n",
       "      <th>Minimum</th>\n",
       "      <th>Mean</th>\n",
       "      <th>Minimum</th>\n",
       "      <th>Mean</th>\n",
       "    </tr>\n",
       "  </thead>\n",
       "  <tbody>\n",
       "    <tr>\n",
       "      <th>Tjörn</th>\n",
       "      <td>5.007985</td>\n",
       "      <td>71.227119</td>\n",
       "      <td>72.129990</td>\n",
       "      <td>73.701790</td>\n",
       "      <td>72.351372</td>\n",
       "      <td>73.948364</td>\n",
       "      <td>72.919197</td>\n",
       "      <td>74.319191</td>\n",
       "    </tr>\n",
       "    <tr>\n",
       "      <th>Valeberget</th>\n",
       "      <td>51.002247</td>\n",
       "      <td>69.376610</td>\n",
       "      <td>71.967804</td>\n",
       "      <td>73.331474</td>\n",
       "      <td>72.269508</td>\n",
       "      <td>73.777809</td>\n",
       "      <td>73.087914</td>\n",
       "      <td>74.426651</td>\n",
       "    </tr>\n",
       "    <tr>\n",
       "      <th>Ekbacken</th>\n",
       "      <td>54.999832</td>\n",
       "      <td>72.052200</td>\n",
       "      <td>72.532722</td>\n",
       "      <td>74.095306</td>\n",
       "      <td>72.687347</td>\n",
       "      <td>74.246902</td>\n",
       "      <td>73.171349</td>\n",
       "      <td>74.490356</td>\n",
       "    </tr>\n",
       "    <tr>\n",
       "      <th>Spekeröd</th>\n",
       "      <td>22.999931</td>\n",
       "      <td>69.843437</td>\n",
       "      <td>72.081955</td>\n",
       "      <td>73.440475</td>\n",
       "      <td>72.336563</td>\n",
       "      <td>73.838669</td>\n",
       "      <td>73.050140</td>\n",
       "      <td>74.385910</td>\n",
       "    </tr>\n",
       "  </tbody>\n",
       "</table>\n",
       "</div>"
      ],
      "text/plain": [
       "               Nuläge                   +74                   +75             \\\n",
       "              Minimum       Mean    Minimum       Mean    Minimum       Mean   \n",
       "Tjörn        5.007985  71.227119  72.129990  73.701790  72.351372  73.948364   \n",
       "Valeberget  51.002247  69.376610  71.967804  73.331474  72.269508  73.777809   \n",
       "Ekbacken    54.999832  72.052200  72.532722  74.095306  72.687347  74.246902   \n",
       "Spekeröd    22.999931  69.843437  72.081955  73.440475  72.336563  73.838669   \n",
       "\n",
       "                  +77             \n",
       "              Minimum       Mean  \n",
       "Tjörn       72.919197  74.319191  \n",
       "Valeberget  73.087914  74.426651  \n",
       "Ekbacken    73.171349  74.490356  \n",
       "Spekeröd    73.050140  74.385910  "
      ]
     },
     "execution_count": 8,
     "metadata": {},
     "output_type": "execute_result"
    }
   ],
   "source": [
    "summmarized_data"
   ]
  },
  {
   "cell_type": "code",
   "execution_count": 7,
   "metadata": {},
   "outputs": [],
   "source": [
    "summmarized_data.to_clipboard()"
   ]
  },
  {
   "cell_type": "code",
   "execution_count": null,
   "metadata": {},
   "outputs": [],
   "source": []
  }
 ],
 "metadata": {
  "kernelspec": {
   "display_name": "Python 3",
   "language": "python",
   "name": "python3"
  },
  "language_info": {
   "codemirror_mode": {
    "name": "ipython",
    "version": 3
   },
   "file_extension": ".py",
   "mimetype": "text/x-python",
   "name": "python",
   "nbconvert_exporter": "python",
   "pygments_lexer": "ipython3",
   "version": "3.11.3"
  }
 },
 "nbformat": 4,
 "nbformat_minor": 2
}
