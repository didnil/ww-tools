{
 "cells": [
  {
   "cell_type": "code",
   "execution_count": 12,
   "metadata": {},
   "outputs": [],
   "source": [
    "import sys\n",
    "sys.path.append('..\\wwtools')\n",
    "from hydraulics import hydraulics\n",
    "import importlib"
   ]
  },
  {
   "cell_type": "code",
   "execution_count": null,
   "metadata": {},
   "outputs": [],
   "source": [
    "I_tot = hydraulics.calculate_inertia()"
   ]
  },
  {
   "cell_type": "code",
   "execution_count": 34,
   "metadata": {},
   "outputs": [],
   "source": [
    "N = 1480 # rpm, Från dokumentation\n",
    "H = 48 # m, Från dokumentation\n",
    "Q = 0.25 # m3/s, Från dokumentation\n",
    "n = 0.805 # Från dokumentation"
   ]
  },
  {
   "cell_type": "code",
   "execution_count": 35,
   "metadata": {},
   "outputs": [],
   "source": [
    "P = hydraulics.calculate_power(Q, H, n) / 1000 # Effekt i kW"
   ]
  },
  {
   "cell_type": "code",
   "execution_count": 37,
   "metadata": {},
   "outputs": [
    {
     "name": "stdout",
     "output_type": "stream",
     "text": [
      "5.287927981822229\n"
     ]
    }
   ],
   "source": [
    "I_pump, I_motor = hydraulics.calculate_inertia(P, N / 1000, pump_type='normal')\n",
    "I_tot = I_pump + I_motor\n",
    "print(I_tot)"
   ]
  },
  {
   "cell_type": "code",
   "execution_count": 38,
   "metadata": {},
   "outputs": [
    {
     "name": "stdout",
     "output_type": "stream",
     "text": [
      "4.70101860840345\n"
     ]
    }
   ],
   "source": [
    "I_pump, I_motor = hydraulics.calculate_inertia(P, N / 1000, pump_type='light weight')\n",
    "I_tot = I_pump + I_motor\n",
    "print(I_tot)"
   ]
  },
  {
   "cell_type": "code",
   "execution_count": 41,
   "metadata": {},
   "outputs": [
    {
     "data": {
      "text/plain": [
       "4.222222222222222"
      ]
     },
     "execution_count": 41,
     "metadata": {},
     "output_type": "execute_result"
    }
   ],
   "source": [
    "38 / 9"
   ]
  }
 ],
 "metadata": {
  "kernelspec": {
   "display_name": "Python 3",
   "language": "python",
   "name": "python3"
  },
  "language_info": {
   "codemirror_mode": {
    "name": "ipython",
    "version": 3
   },
   "file_extension": ".py",
   "mimetype": "text/x-python",
   "name": "python",
   "nbconvert_exporter": "python",
   "pygments_lexer": "ipython3",
   "version": "3.11.3"
  }
 },
 "nbformat": 4,
 "nbformat_minor": 2
}
