{
 "cells": [
  {
   "cell_type": "code",
   "execution_count": 8,
   "metadata": {},
   "outputs": [],
   "source": [
    "import importlib\n",
    "import geopandas as gpd\n",
    "from pathlib import Path\n",
    "import sys\n",
    "sys.path.append('..\\wwtools')\n",
    "import rainfall.create_block_rain as cbr  # cbr0 = create block rain"
   ]
  },
  {
   "cell_type": "code",
   "execution_count": 10,
   "metadata": {},
   "outputs": [],
   "source": [
    "in_dir = Path(r\"C:\\Users\\SEDINI\\Documents\\Arbetsmapp\\NBK206\\Rännor Sävar station\\modell\\indata\\regn\")"
   ]
  },
  {
   "cell_type": "code",
   "execution_count": 6,
   "metadata": {},
   "outputs": [],
   "source": [
    "block_rains = cbr.create_variable_block_rains([2, 5, 10], 10)"
   ]
  },
  {
   "cell_type": "code",
   "execution_count": 11,
   "metadata": {},
   "outputs": [],
   "source": [
    "cbr.create_rain_df(\n",
    "    block_rains,\n",
    "    \"Blockregn\",\n",
    "    in_dir / \"blockregn_2%5%10_min.dfs0\",\n",
    "    rainDepthCol=\"Rain (mm)\",\n",
    ")"
   ]
  }
 ],
 "metadata": {
  "kernelspec": {
   "display_name": "Python 3",
   "language": "python",
   "name": "python3"
  },
  "language_info": {
   "codemirror_mode": {
    "name": "ipython",
    "version": 3
   },
   "file_extension": ".py",
   "mimetype": "text/x-python",
   "name": "python",
   "nbconvert_exporter": "python",
   "pygments_lexer": "ipython3",
   "version": "3.11.3"
  }
 },
 "nbformat": 4,
 "nbformat_minor": 2
}
