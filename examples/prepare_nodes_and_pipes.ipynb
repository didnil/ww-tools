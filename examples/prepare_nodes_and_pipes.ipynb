{
 "cells": [
  {
   "cell_type": "code",
   "execution_count": 6,
   "metadata": {},
   "outputs": [],
   "source": [
    "import importlib\n",
    "import geopandas as gpd\n",
    "import sys\n",
    "sys.path.append('..\\wwtools')\n",
    "import network.prepare_nodes_and_pipes as pnp"
   ]
  },
  {
   "cell_type": "code",
   "execution_count": 7,
   "metadata": {},
   "outputs": [],
   "source": [
    "pipes = gpd.read_file(r\"C:\\Users\\SEDINI\\Documents\\Arbetsmapp\\NBK206\\Rännor Sävar station\\GIS\\savar_perrong.gpkg\",\n",
    "                      layer='perrong_z_v2',\n",
    "                      encoding='utf-8')\n",
    "pipes =  pnp.create_node_names(pipes, 'dpl')"
   ]
  },
  {
   "cell_type": "code",
   "execution_count": 34,
   "metadata": {},
   "outputs": [],
   "source": [
    "pipes.to_file(r\"C:\\Users\\SEDINI\\Documents\\Arbetsmapp\\NBK206\\Rännor Sävar station\\GIS\\savar_perrong.gpkg\",\n",
    "              layer='perrong_with_nodeNames',\n",
    "              encoding='utf-8')"
   ]
  },
  {
   "cell_type": "code",
   "execution_count": 32,
   "metadata": {},
   "outputs": [
    {
     "name": "stdout",
     "output_type": "stream",
     "text": [
      "Ledningarna sitter ihop\n"
     ]
    }
   ],
   "source": [
    "nodes = pnp.create_points(pipes, 'epsg:3016', idCol=\"muid\", fpidCol=\"fpid\", tpidCol=\"tpid\", invert_levels=('npv1', 'npv2'))"
   ]
  },
  {
   "cell_type": "code",
   "execution_count": 36,
   "metadata": {},
   "outputs": [],
   "source": [
    "orig_nodes = gpd.read_file(r\"C:\\Users\\SEDINI\\Documents\\Arbetsmapp\\NBK206\\Rännor Sävar station\\GIS\\savar_perrong.gpkg\",\n",
    "                           layer='brunnar_perrong',\n",
    "                           encoding='utf-8')"
   ]
  },
  {
   "cell_type": "code",
   "execution_count": 42,
   "metadata": {},
   "outputs": [],
   "source": [
    "nodes_with_data = nodes.sjoin_nearest(orig_nodes.loc[:, ['material', 'DETAILTYPE', 'groundLevel', 'invertLevel', 'diam_m', 'geometry']])"
   ]
  },
  {
   "cell_type": "code",
   "execution_count": 43,
   "metadata": {},
   "outputs": [],
   "source": [
    "nodes_with_data.to_file(r\"C:\\Users\\SEDINI\\Documents\\Arbetsmapp\\NBK206\\Rännor Sävar station\\GIS\\savar_perrong.gpkg\",\n",
    "                        layer='nodes_with_level_v2',\n",
    "                        encoding='utf-8')"
   ]
  },
  {
   "cell_type": "code",
   "execution_count": null,
   "metadata": {},
   "outputs": [],
   "source": []
  }
 ],
 "metadata": {
  "kernelspec": {
   "display_name": "Python 3",
   "language": "python",
   "name": "python3"
  },
  "language_info": {
   "codemirror_mode": {
    "name": "ipython",
    "version": 3
   },
   "file_extension": ".py",
   "mimetype": "text/x-python",
   "name": "python",
   "nbconvert_exporter": "python",
   "pygments_lexer": "ipython3",
   "version": "3.11.3"
  }
 },
 "nbformat": 4,
 "nbformat_minor": 2
}
